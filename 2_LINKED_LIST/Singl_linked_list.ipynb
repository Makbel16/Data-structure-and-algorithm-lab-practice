{
 "cells": [
  {
   "cell_type": "markdown",
   "id": "18aeafbb",
   "metadata": {},
   "source": [
    "# CHAPTER 3 LINKED LIST\n",
    "\n",
    "Insert value at the beging at the midle and at the end \n"
   ]
  },
  {
   "cell_type": "code",
   "execution_count": null,
   "id": "6b9958de",
   "metadata": {},
   "outputs": [],
   "source": [
    "# Node class\n",
    "class Node:\n",
    "    def __init__(self, data):\n",
    "        self.data = data\n",
    "        self.next = None\n",
    "\n",
    "# Linked List class\n",
    "class LinkedList:\n",
    "    def __init__(self):\n",
    "        self.head = None\n",
    "\n",
    "    # 1. Insert at the beginning\n",
    "    def insert_at_beginning(self, data):\n",
    "        new_node = Node(data)\n",
    "        new_node.next = self.head\n",
    "        self.head = new_node\n",
    "\n",
    "    # 2. Insert at the end\n",
    "    def insert_at_end(self, data):\n",
    "        new_node = Node(data)\n",
    "        if self.head is None:\n",
    "            self.head = new_node\n",
    "            return\n",
    "        current = self.head\n",
    "        while current.next:\n",
    "            current = current.next\n",
    "        current.next = new_node\n",
    "\n",
    "    # 3. Insert after a given node\n",
    "    def insert_after(self, prev_node_data, data):\n",
    "        current = self.head\n",
    "        while current and current.data != prev_node_data:\n",
    "            current = current.next\n",
    "        if current is None:\n",
    "            print(\"Previous node not found.\")\n",
    "            return\n",
    "        new_node = Node(data)\n",
    "        new_node.next = current.next\n",
    "        current.next = new_node\n",
    "\n",
    "    # Utility: Print the linked list\n",
    "    def display(self):\n",
    "        current = self.head\n",
    "        while current:\n",
    "            print(current.data, end=\" -> \")\n",
    "            current = current.next\n",
    "        print(\"None\")\n",
    "\n",
    "# Testing the linked list\n",
    "List= LinkedList()\n",
    "\n",
    "\n",
    "\n"
   ]
  },
  {
   "cell_type": "markdown",
   "id": "102ab504",
   "metadata": {},
   "source": [
    "calling the function by passing the inserted value to the list"
   ]
  },
  {
   "cell_type": "code",
   "execution_count": 2,
   "id": "bf490259",
   "metadata": {},
   "outputs": [
    {
     "name": "stdout",
     "output_type": "stream",
     "text": [
      "67 -> 123 -> 10 -> None\n",
      "5 -> 67 -> 123 -> 10 -> None\n",
      "Previous node not found.\n",
      "5 -> 67 -> 123 -> 10 -> None\n"
     ]
    }
   ],
   "source": [
    "\n",
    "List = LinkedList()\n",
    "List.insert_at_beginning(10)\n",
    "List.insert_at_beginning(123)\n",
    "List.insert_at_beginning(67)\n",
    "List.display() \n",
    "\n",
    "List.insert_at_beginning(5)\n",
    "List.display()\n",
    "\n",
    "  \n",
    "List.insert_after(20, 30)  # Insert 30 after node with data 20\n",
    "List.display() \n"
   ]
  }
 ],
 "metadata": {
  "kernelspec": {
   "display_name": "Python 3",
   "language": "python",
   "name": "python3"
  },
  "language_info": {
   "codemirror_mode": {
    "name": "ipython",
    "version": 3
   },
   "file_extension": ".py",
   "mimetype": "text/x-python",
   "name": "python",
   "nbconvert_exporter": "python",
   "pygments_lexer": "ipython3",
   "version": "3.13.2"
  }
 },
 "nbformat": 4,
 "nbformat_minor": 5
}
