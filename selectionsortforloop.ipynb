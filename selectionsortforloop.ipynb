{
 "cells": [
  {
   "cell_type": "markdown",
   "id": "dcf3db04",
   "metadata": {},
   "source": [
    "#### follow the foolowing step to implement \"selection sort\"\n",
    "- declar the array list\n",
    "- ascending order using for loops and if statements\n",
    "- Find the maximum element in unsorted part of the array\n",
    "- Swap the found maximum element with the first element of the unsorted part\n",
    "- Print the sorted array"
   ]
  },
  {
   "cell_type": "code",
   "execution_count": null,
   "id": "852df158",
   "metadata": {},
   "outputs": [],
   "source": [
    "\n",
    "arr = [12, 10, 9, 20, 1]\n",
    "\n",
    "for i in range(len(arr)):\n",
    "    \n",
    "    min_index = i\n",
    "    for j in range(i+1, len(arr)):\n",
    "        if arr[j] <arr[min_index]:\n",
    "    \n",
    "            min_index = j\n",
    "    if min_index!=i:\n",
    "        arr[i], arr[min_index] = arr[min_index], arr[i]\n",
    "print(\"Sorted array in descending order:\", arr)\n"
   ]
  },
  {
   "cell_type": "markdown",
   "id": "f6c352a2",
   "metadata": {},
   "source": [
    "#### * rewrite the above selection sort implementation in \"descending\"  order using for loop.\n",
    "      Solution"
   ]
  },
  {
   "cell_type": "code",
   "execution_count": 1,
   "id": "df93e6b0",
   "metadata": {},
   "outputs": [
    {
     "name": "stdout",
     "output_type": "stream",
     "text": [
      "Sorted array in descending order: [20, 12, 10, 9, 1]\n"
     ]
    }
   ],
   "source": [
    "arr = [12, 10, 9, 20, 1]\n",
    "\n",
    "for i in range(len(arr)):\n",
    "    \n",
    "    max_index = i\n",
    "    for j in range(i+1, len(arr)):\n",
    "        if arr[j] >arr[max_index]:\n",
    "    \n",
    "            max_index = j\n",
    "    if max_index!=i:\n",
    "        arr[i], arr[max_index] = arr[max_index], arr[i]\n",
    "print(\"Sorted array in descending order:\", arr)\n"
   ]
  },
  {
   "cell_type": "markdown",
   "id": "97603d5d",
   "metadata": {},
   "source": [
    "####  ** rewrite the above selection sort implementation using while loop\n",
    "      Solution"
   ]
  },
  {
   "cell_type": "code",
   "execution_count": null,
   "id": "b5b2983a",
   "metadata": {},
   "outputs": [
    {
     "name": "stdout",
     "output_type": "stream",
     "text": [
      "Sorted array in descending order: [1, 9, 10, 12, 20]\n"
     ]
    }
   ],
   "source": [
    "\n",
    "arr = [12, 10, 9, 20, 1]\n",
    "i = 0\n",
    "while i < len(arr):\n",
    "    min_index = i\n",
    "    j = i + 1\n",
    "    while j < len(arr):\n",
    "        if arr[j] < arr[min_index]:\n",
    "            min_index = j\n",
    "        j += 1\n",
    "    if min_index != i:\n",
    "        arr[i], arr[min_index] = arr[min_index], arr[i]\n",
    "    i += 1\n",
    "print(\"Sorted array in descending order:\", arr)\n"
   ]
  }
 ],
 "metadata": {
  "kernelspec": {
   "display_name": "Python 3",
   "language": "python",
   "name": "python3"
  },
  "language_info": {
   "codemirror_mode": {
    "name": "ipython",
    "version": 3
   },
   "file_extension": ".py",
   "mimetype": "text/x-python",
   "name": "python",
   "nbconvert_exporter": "python",
   "pygments_lexer": "ipython3",
   "version": "3.13.2"
  }
 },
 "nbformat": 4,
 "nbformat_minor": 5
}
