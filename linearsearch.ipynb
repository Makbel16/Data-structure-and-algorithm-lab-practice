{
 "cells": [
  {
   "cell_type": "markdown",
   "id": "33bd5a92",
   "metadata": {},
   "source": [
    "#####         a) this is linear search implementation using forloop and if:"
   ]
  },
  {
   "cell_type": "code",
   "execution_count": null,
   "id": "d9e6de26",
   "metadata": {},
   "outputs": [
    {
     "name": "stdout",
     "output_type": "stream",
     "text": [
      "Element 50 found at index 4\n"
     ]
    }
   ],
   "source": [
    "arr = [10, 20, 30, 40, 50, 60, 70, 80, 90]\n",
    "target = 50\n",
    "found = False\n",
    "for i in range(len(arr)):\n",
    "    if arr[i] == target:\n",
    "        found = True\n",
    "        print(f\"Element {target} found at index {i}\")\n",
    "        break\n",
    "if not found:\n",
    "    print(f\"Element {target} not found in the array.\")\n"
   ]
  }
 ],
 "metadata": {
  "kernelspec": {
   "display_name": "Python 3",
   "language": "python",
   "name": "python3"
  },
  "language_info": {
   "codemirror_mode": {
    "name": "ipython",
    "version": 3
   },
   "file_extension": ".py",
   "mimetype": "text/x-python",
   "name": "python",
   "nbconvert_exporter": "python",
   "pygments_lexer": "ipython3",
   "version": "3.13.2"
  }
 },
 "nbformat": 4,
 "nbformat_minor": 5
}
