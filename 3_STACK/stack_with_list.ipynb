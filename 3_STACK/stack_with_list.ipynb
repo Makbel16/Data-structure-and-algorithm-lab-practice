{
 "cells": [
  {
   "cell_type": "markdown",
   "id": "0ac225ef",
   "metadata": {},
   "source": [
    "# CHAPTER 4 **STACK**"
   ]
  },
  {
   "cell_type": "markdown",
   "id": "c38ebdac",
   "metadata": {},
   "source": [
    "## implementation of **stack** in python list"
   ]
  },
  {
   "cell_type": "code",
   "execution_count": 33,
   "id": "65f18083",
   "metadata": {},
   "outputs": [],
   "source": [
    "class Stack:\n",
    "    def __init__(self):\n",
    "        self.stack = []\n",
    "    def push(self, data):\n",
    "        self.stack.append(data)  # Add item to the top of the stack\n",
    "        print(self.stack)\n",
    "    def pop(self):\n",
    "        if len(self.stack) == 0:\n",
    "            return print(\"Stack Underflow! Cannot pop from empty stack.\")\n",
    "        else:\n",
    "            self.stack.pop()  \n",
    "\n",
    "        return self.stack\n",
    "    def peak(self):\n",
    "        if len(self.stack)==0:\n",
    "            return \"empty stack\"\n",
    "        else:\n",
    "            return f\"the peaked value is  {self.stack[-1]}\""
   ]
  },
  {
   "cell_type": "code",
   "execution_count": 34,
   "id": "ffb1aa5a",
   "metadata": {},
   "outputs": [],
   "source": [
    "sck=Stack()"
   ]
  },
  {
   "cell_type": "markdown",
   "id": "ab5d6959",
   "metadata": {},
   "source": [
    "  ##### call the **push** function"
   ]
  },
  {
   "cell_type": "code",
   "execution_count": null,
   "id": "38b24751",
   "metadata": {},
   "outputs": [],
   "source": [
    "sck.push(100)\n",
    "sck.push(99)\n",
    "sck.push(98)\n",
    "sck.push(97)\n"
   ]
  },
  {
   "cell_type": "markdown",
   "id": "139d72b4",
   "metadata": {},
   "source": [
    "##### invoke **pop** function"
   ]
  },
  {
   "cell_type": "code",
   "execution_count": null,
   "id": "6d85500e",
   "metadata": {},
   "outputs": [],
   "source": [
    "sck.pop()"
   ]
  },
  {
   "cell_type": "markdown",
   "id": "bcb86fda",
   "metadata": {},
   "source": [
    "let's invok the **peak** function"
   ]
  },
  {
   "cell_type": "code",
   "execution_count": null,
   "id": "8a905bd5",
   "metadata": {},
   "outputs": [],
   "source": [
    "sck.peak()"
   ]
  },
  {
   "cell_type": "markdown",
   "id": "ded59819",
   "metadata": {},
   "source": [
    "- ## implementation of **stack** in linked list"
   ]
  },
  {
   "cell_type": "code",
   "execution_count": 2,
   "id": "510164f0",
   "metadata": {},
   "outputs": [],
   "source": [
    "# Node class for Linked List\n",
    "class Node:\n",
    "    def __init__(self, data):\n",
    "        self.data = data\n",
    "        self.next = None\n",
    "\n",
    "# Stack class using Linked List\n",
    "class Stack:\n",
    "    def __init__(self):\n",
    "        self.top = None  # Points to the top of the stack\n",
    "\n",
    "    def is_empty(self):\n",
    "        return self.top is None\n",
    "\n",
    "    def push(self, data):\n",
    "        new_node = Node(data)       # Create new node\n",
    "        new_node.next = self.top    # Link new node to previous top\n",
    "        self.top = new_node         # Update top to new node\n",
    "\n",
    "    def pop(self):\n",
    "        if self.is_empty():\n",
    "            print(\"Stack Underflow! Cannot pop from empty stack.\")\n",
    "            return None\n",
    "        popped_node = self.top\n",
    "        self.top = self.top.next    # Move top to next node\n",
    "        return popped_node.data\n",
    "\n",
    "    def peek(self):\n",
    "        if self.is_empty():\n",
    "            print(\"Stack is empty.\")\n",
    "            return None\n",
    "        return self.top.data\n",
    "\n",
    "    def display(self):\n",
    "        if self.is_empty():\n",
    "            print(\"Stack is empty.\")\n",
    "            return\n",
    "        current = self.top\n",
    "        print(\"Stack elements (top to bottom):\")\n",
    "        while current:\n",
    "            print(current.data)\n",
    "            current = current.next\n"
   ]
  },
  {
   "cell_type": "code",
   "execution_count": null,
   "id": "9503fe99",
   "metadata": {},
   "outputs": [],
   "source": [
    "stack = Stack()\n",
    "stack.push(5)\n",
    "stack.push(10)\n",
    "stack.push(15)\n",
    "stack.display()\n",
    "print(\"Top element is:\", stack.peek())\n",
    "print(\"Popped:\", stack.pop())\n",
    "stack.display()\n"
   ]
  }
 ],
 "metadata": {
  "kernelspec": {
   "display_name": "Python 3",
   "language": "python",
   "name": "python3"
  },
  "language_info": {
   "codemirror_mode": {
    "name": "ipython",
    "version": 3
   },
   "file_extension": ".py",
   "mimetype": "text/x-python",
   "name": "python",
   "nbconvert_exporter": "python",
   "pygments_lexer": "ipython3",
   "version": "3.13.2"
  }
 },
 "nbformat": 4,
 "nbformat_minor": 5
}
