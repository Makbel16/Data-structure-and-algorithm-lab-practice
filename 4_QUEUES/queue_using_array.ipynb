{
 "cells": [
  {
   "cell_type": "markdown",
   "id": "21a15272",
   "metadata": {},
   "source": [
    "\n",
    "## CHAPTER 5: QUEUES\n",
    "      \n",
    "\n",
    "### introduction\n",
    "- A queue is a data structure that can hold many elements<br/>\n",
    "\n",
    "\n",
    "`Think of a queue as people standing in line in a supermarket.\n",
    "\n",
    "The first person to stand in line is also the first who can pay and leave the supermarket. This way of organizing elements is called FIFO: First In First Out.\n",
    "\n",
    "Basic operations we can do on a queue are:\n",
    "\n",
    "- **Enqueue**: Adds a new element to the queue.\n",
    "- **Dequeue**: Removes and returns the first (front) element from the queue.\n",
    "- **Peek**: Returns the first element in the queue.\n",
    "- **isEmpty**: Checks if the queue is empty.\n",
    "- **Size**: Finds the number of elements in the queue.\n",
    "\n",
    " ##### Queues can be implemented by using arrays(Python list) or linked lists.\n",
    "\n",
    " ##### Queues can be used to implement job scheduling for an office printer, order processing for e-tickets, or to create algorithms for breadth-first search in graphs."
   ]
  },
  {
   "cell_type": "markdown",
   "id": "4e58dda2",
   "metadata": {},
   "source": [
    "- ### **Queue Implementation using Arrays**"
   ]
  },
  {
   "cell_type": "code",
   "execution_count": null,
   "id": "a4965027",
   "metadata": {},
   "outputs": [
    {
     "name": "stdout",
     "output_type": "stream",
     "text": [
      "Queue:  [10, 20, 30, 40, 50, 60, 70, 80, 90, 100]\n",
      "Dequeue:  10\n",
      "Peek:  20\n",
      "Size:  9\n"
     ]
    }
   ],
   "source": [
    "class Queue:\n",
    "    def __init__(self):\n",
    "        self.queue=[]\n",
    "    def enqueue(self,item):\n",
    "        self.queue.append(item)\n",
    "    def dequeue(self):\n",
    "        if len(self.queue)==0:\n",
    "            print(\"the queue is empty\")\n",
    "        else:\n",
    "           return self.queue.pop(0)\n",
    "    def peek(self):\n",
    "        if len(self.queue)==0:\n",
    "            print(\"que is empty\")\n",
    "        \n",
    "        return self.queue[0]\n",
    "    \n",
    "    def size(self):\n",
    "        return (len(self.queue))\n",
    "Qu = Queue()\n",
    "\n",
    "Qu.enqueue(10)\n",
    "Qu.enqueue(20)\n",
    "Qu.enqueue(30)\n",
    "Qu.enqueue(40)\n",
    "Qu.enqueue(50)\n",
    "Qu.enqueue(60)\n",
    "Qu.enqueue(70)\n",
    "Qu.enqueue(80)\n",
    "Qu.enqueue(90)\n",
    "Qu.enqueue(100)\n",
    "print(\"Queue: \",Qu.queue)\n",
    "print(\"Dequeue: \",Qu.dequeue())\n",
    "\n",
    "print(\"Peek: \", Qu.peek())\n",
    "\n",
    "print(\"Size: \", Qu.size())"
   ]
  },
  {
   "cell_type": "markdown",
   "id": "b9c4989d",
   "metadata": {},
   "source": [
    "- #### using priority concept how to implement the queue ?\n"
   ]
  }
 ],
 "metadata": {
  "kernelspec": {
   "display_name": "Python 3",
   "language": "python",
   "name": "python3"
  },
  "language_info": {
   "codemirror_mode": {
    "name": "ipython",
    "version": 3
   },
   "file_extension": ".py",
   "mimetype": "text/x-python",
   "name": "python",
   "nbconvert_exporter": "python",
   "pygments_lexer": "ipython3",
   "version": "3.13.2"
  }
 },
 "nbformat": 4,
 "nbformat_minor": 5
}
